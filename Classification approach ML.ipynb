{
 "cells": [
  {
   "cell_type": "code",
   "execution_count": 1,
   "id": "0d39065c",
   "metadata": {},
   "outputs": [],
   "source": [
    "import matplotlib.pyplot as plt"
   ]
  },
  {
   "cell_type": "code",
   "execution_count": 2,
   "id": "1ad5404c",
   "metadata": {},
   "outputs": [
    {
     "name": "stderr",
     "output_type": "stream",
     "text": [
      "[MLENS] backend: threading\n"
     ]
    }
   ],
   "source": [
    "from yahoofinancials import YahooFinancials as yf\n",
    "import pandas as pd \n",
    "import numpy as np \n",
    "import matplotlib.pyplot as plt \n",
    "import seaborn as sns \n",
    "\n",
    "# models \n",
    "from sklearn import svm\n",
    "from sklearn.linear_model import LogisticRegression\n",
    "from sklearn.ensemble import RandomForestClassifier\n",
    "from sklearn.neighbors import KNeighborsClassifier\n",
    "from sklearn.ensemble import GradientBoostingClassifier\n",
    "from sklearn.linear_model import SGDClassifier\n",
    "\n",
    "import pandas_datareader.data as reader\n",
    "from sklearn.model_selection import train_test_split\n",
    "from sklearn.metrics import accuracy_score, plot_confusion_matrix\n",
    "from sklearn.preprocessing import MinMaxScaler\n",
    "from sklearn.model_selection import RandomizedSearchCV, GridSearchCV\n",
    "# %matplotlib inline\n",
    "# dependencies \n",
    "from sklearn.model_selection import train_test_split\n",
    "from sklearn.metrics import accuracy_score\n",
    "from sklearn.neighbors import KNeighborsClassifier\n",
    "from sklearn.linear_model import LogisticRegression\n",
    "from sklearn.tree import DecisionTreeClassifier\n",
    "from sklearn.svm import SVC\n",
    "from sklearn.naive_bayes import GaussianNB\n",
    "from sklearn.ensemble import AdaBoostClassifier\n",
    "from sklearn.ensemble import BaggingClassifier\n",
    "from sklearn.ensemble import RandomForestClassifier\n",
    "from sklearn.ensemble import ExtraTreesClassifier\n",
    "from mlens.ensemble import SuperLearner\n"
   ]
  },
  {
   "cell_type": "code",
   "execution_count": 3,
   "id": "dba16ddd",
   "metadata": {},
   "outputs": [],
   "source": [
    "def get_stock_data(tickers, start_date=None, end_date=None, freq='daily'):\n",
    "    ticker_not_found=[]\n",
    "    for ticker in tickers:\n",
    "        yf_engine = yf(ticker)\n",
    "        price = yf_engine.get_historical_price_data(start_date,end_date,freq)\n",
    "        #store the data in DataFrame\n",
    "        try:\n",
    "            print('before',ticker)\n",
    "            ticker_data = pd.DataFrame(price[ticker]['prices'])\n",
    "            print('after',ticker_data)\n",
    "            ticker_data = ticker_data.drop('date', axis=1) # We will use formatted_date columns instead\n",
    "        except:\n",
    "            ticker_not_found.append(ticker)\n",
    "            continue\n",
    "            \n",
    "    return ticker_data, ticker_not_found"
   ]
  },
  {
   "cell_type": "code",
   "execution_count": 4,
   "id": "9ae03f93",
   "metadata": {},
   "outputs": [
    {
     "name": "stdout",
     "output_type": "stream",
     "text": [
      "before TSLA\n",
      "after             date         high          low         open        close  \\\n",
      "0     1283347800     4.138000     3.920000     3.924000     4.090000   \n",
      "1     1283434200     4.248000     4.062000     4.074000     4.212000   \n",
      "2     1283520600     4.260000     4.132000     4.174000     4.210000   \n",
      "3     1283866200     4.200000     4.100000     4.122000     4.108000   \n",
      "4     1283952600     4.190000     4.120000     4.132000     4.180000   \n",
      "...          ...          ...          ...          ...          ...   \n",
      "2820  1636727400  1054.500000  1019.200012  1047.500000  1033.420044   \n",
      "2821  1636986600  1031.979980   978.599976  1017.630005  1013.390015   \n",
      "2822  1637073000  1057.199951  1002.179993  1003.309998  1054.729980   \n",
      "2823  1637159400  1119.640015  1055.500000  1063.510010  1089.010010   \n",
      "2824  1637245800  1112.000000  1075.020020  1106.550049  1096.380005   \n",
      "\n",
      "        volume     adjclose formatted_date  \n",
      "0      2474500     4.090000     2010-09-01  \n",
      "1      2435500     4.212000     2010-09-02  \n",
      "2      2173000     4.210000     2010-09-03  \n",
      "3      1217000     4.108000     2010-09-07  \n",
      "4      1442000     4.180000     2010-09-08  \n",
      "...        ...          ...            ...  \n",
      "2820  25182300  1033.420044     2021-11-12  \n",
      "2821  34775600  1013.390015     2021-11-15  \n",
      "2822  26542400  1054.729980     2021-11-16  \n",
      "2823  31445400  1089.010010     2021-11-17  \n",
      "2824  20898900  1096.380005     2021-11-18  \n",
      "\n",
      "[2825 rows x 8 columns]\n"
     ]
    }
   ],
   "source": [
    "ticker = ['TSLA']\n",
    "start_date = '2010-09-01'\n",
    "end_date = '2021-11-19'\n",
    "\n",
    "\n",
    "import pandas_datareader.data as reader\n",
    "data = reader.get_data_yahoo('TSLA')\n",
    "df = data.reset_index()\n",
    "df1=df.copy()\n",
    "\n",
    "df, ticker_not_found = get_stock_data(ticker, start_date, end_date)"
   ]
  },
  {
   "cell_type": "code",
   "execution_count": 7,
   "id": "f49a3fb9",
   "metadata": {},
   "outputs": [],
   "source": [
    "def get_clean_data (df, start_date, end_date):\n",
    "    features = df.copy()\n",
    "    features = features.drop(['formatted_date'], axis=1)\n",
    "    #creating features as stated above\n",
    "    features['volume'] = features['volume'].shift(1)\n",
    "    features['SMA'] = features['adjclose'].rolling(window=20).mean().shift(1)\n",
    "    features['Std_20'] = features['adjclose'].rolling(window=20).std().shift(1)\n",
    "    features['Band_1'] = features['SMA'] - features['Std_20']\n",
    "    features['Band_2'] = features['SMA'] + features['Std_20']\n",
    "    features['ON_returns'] = features['close'] - features['open'].shift(-1)\n",
    "    features['ON_returns'] = features['ON_returns'].shift(1)\n",
    "    features['ON_returns_signal'] = np.where(features['ON_returns']<0, 'up', 'down')\n",
    "    features['dist_from_mean'] = features['adjclose'].shift(1) - features['SMA']\n",
    "    \n",
    "  #Obtaining Vix Data and combining with existing features of stock\n",
    "    ticker = ['^VIX']\n",
    "    start_date = start_date\n",
    "    end_date = end_date\n",
    "    vix_data, ticker_not_found = get_stock_data(ticker, start_date, end_date)\n",
    "    vix_data = pd.DataFrame(vix_data['adjclose'].shift(1))\n",
    "    vix_data = vix_data.rename(columns = {'adjclose':'vix_data'})\n",
    "    comb_features = pd.concat([features,vix_data], axis=1)\n",
    "    comb_features = comb_features.dropna() #dropping NaN values\n",
    "    comb_features = pd.get_dummies(comb_features, columns=['ON_returns_signal']) #for categorical variables\n",
    "    comb_features = comb_features.drop('ON_returns', axis=1) #dropping original categorical column\n",
    "    comb_features = comb_features.drop('close', axis=1) #not really needed this value since we have adj close now  \n",
    "    ###Create return column to predict\n",
    "    comb_features['stock_move'] = np.where(comb_features['adjclose']-\n",
    "                                           comb_features['adjclose'].shift(-1)<0, \"Buy\", \"Sell\")\n",
    "    features_clean = comb_features.dropna() #Dropping Nan values\n",
    "    features_clean = features_clean[:-1] #Drop last row which do not have any stock signal\n",
    "    features_clean.tail()\n",
    "    return features_clean"
   ]
  },
  {
   "cell_type": "code",
   "execution_count": 8,
   "id": "371c2535",
   "metadata": {},
   "outputs": [
    {
     "name": "stdout",
     "output_type": "stream",
     "text": [
      "before ^VIX\n",
      "after             date       high        low       open      close  volume  \\\n",
      "0     1283347800  25.129999  23.860001  25.129999  23.889999       0   \n",
      "1     1283434200  24.309999  23.150000  24.230000  23.190001       0   \n",
      "2     1283520600  22.780001  21.240000  21.990000  21.309999       0   \n",
      "3     1283866200  23.940001  22.770000  22.770000  23.799999       0   \n",
      "4     1283952600  23.559999  22.920000  23.510000  23.250000       0   \n",
      "...          ...        ...        ...        ...        ...     ...   \n",
      "2820  1636727400  17.690001  16.150000  17.490000  16.290001       0   \n",
      "2821  1636986600  17.459999  16.490000  17.030001  16.490000       0   \n",
      "2822  1637073000  17.080000  16.030001  16.860001  16.370001       0   \n",
      "2823  1637159400  17.190001  16.280001  16.360001  17.110001       0   \n",
      "2824  1637245800  18.150000  16.379999  16.809999  17.590000       0   \n",
      "\n",
      "       adjclose formatted_date  \n",
      "0     23.889999     2010-09-01  \n",
      "1     23.190001     2010-09-02  \n",
      "2     21.309999     2010-09-03  \n",
      "3     23.799999     2010-09-07  \n",
      "4     23.250000     2010-09-08  \n",
      "...         ...            ...  \n",
      "2820  16.290001     2021-11-12  \n",
      "2821  16.490000     2021-11-15  \n",
      "2822  16.370001     2021-11-16  \n",
      "2823  17.110001     2021-11-17  \n",
      "2824  17.590000     2021-11-18  \n",
      "\n",
      "[2825 rows x 8 columns]\n"
     ]
    }
   ],
   "source": [
    "# np.random.seed(42)\n",
    "features = get_clean_data(df, start_date, end_date)"
   ]
  },
  {
   "cell_type": "code",
   "execution_count": 9,
   "id": "3fc107c5",
   "metadata": {},
   "outputs": [],
   "source": [
    "features.head()\n",
    "#convert stock_move to binary\n",
    "features['stock_move'] = np.where(features['stock_move'] == 'Sell', 0, 1)\n",
    "# Split Data \n",
    "X = features.drop(['high', 'low', 'stock_move'], axis=1)\n",
    "y = features['stock_move']\n",
    "\n",
    "\n",
    "#test train split\n",
    "X_train, X_test, y_train, y_test = train_test_split(X, y, test_size=0.3, random_state=42)\n",
    "\n",
    "\n",
    "# Scale Our Data\n",
    "\n",
    "#Scale the features\n",
    "scaler = MinMaxScaler()\n",
    "X_train = scaler.fit_transform(X_train)\n",
    "X_test = scaler.transform(X_test)"
   ]
  },
  {
   "cell_type": "code",
   "execution_count": 10,
   "id": "771f3d8c",
   "metadata": {},
   "outputs": [],
   "source": [
    "# create a list of base-models\n",
    "def get_models():\n",
    "    models = list()\n",
    "    models.append(LogisticRegression(solver='liblinear'))\n",
    "    models.append(DecisionTreeClassifier())\n",
    "    models.append(SVC(gamma='scale', probability=True))\n",
    "    models.append(GaussianNB())\n",
    "    models.append(KNeighborsClassifier())\n",
    "    models.append(AdaBoostClassifier())\n",
    "    models.append(BaggingClassifier(n_estimators=100))\n",
    "    models.append(RandomForestClassifier(n_estimators=100))\n",
    "    models.append(ExtraTreesClassifier(n_estimators=100))\n",
    "    return models\n",
    "# collect out of fold predictions form k-fold cross validation\n",
    "def get_out_of_fold_predictions(X, y, models):\n",
    "    meta_X, meta_y = list(), list()\n",
    "    # define split of data\n",
    "    kfold = KFold(n_splits=10, shuffle=True)\n",
    "    # enumerate splits\n",
    "    for train_ix, test_ix in kfold.split(X):\n",
    "        fold_yhats = list()\n",
    "        # get data\n",
    "        X_train, X_test = X[train_ix], X[test_ix]\n",
    "        y_train, y_test = y.iloc[train_ix], y.iloc[test_ix]\n",
    "        meta_y.extend(y_test)\n",
    "        # fit and make predictions with each sub-model\n",
    "        for model in models:\n",
    "            model.fit(X_train, y_train)\n",
    "            yhat = model.predict_proba(X_test)\n",
    "            # store columns\n",
    "            fold_yhats.append(yhat)\n",
    "        # store fold yhats as columns\n",
    "        meta_X.append(hstack(fold_yhats))\n",
    "    return vstack(meta_X), asarray(meta_y)\n",
    "# fit all base models on the training dataset\n",
    "def fit_base_models(X, y, models):\n",
    "    for model in models:\n",
    "        model.fit(X, y)\n",
    "# fit a meta model\n",
    "def fit_meta_model(X, y):\n",
    "    model = LogisticRegression(solver='liblinear')\n",
    "    model.fit(X, y)\n",
    "    return model"
   ]
  },
  {
   "cell_type": "code",
   "execution_count": 11,
   "id": "fdfcbf88",
   "metadata": {},
   "outputs": [],
   "source": [
    "# evaluate a list of models on a dataset\n",
    "def evaluate_models(X, y, models):\n",
    "    for model in models:\n",
    "        yhat = model.predict(X)\n",
    "        acc = accuracy_score(y, yhat)\n",
    "        print('%s: %.3f' % (model.__class__.__name__, acc*100))\n",
    "# make predictions w/ stacked model\n",
    "def super_learner_predictions(X, models, meta_model):\n",
    "    meta_X = list()\n",
    "    for model in models:\n",
    "        yhat = model.predict_proba(X)\n",
    "        meta_X.append(yhat)\n",
    "    meta_X = hstack(meta_X)\n",
    "    # predict\n",
    "    return meta_model.predict(meta_X)"
   ]
  },
  {
   "cell_type": "code",
   "execution_count": 12,
   "id": "75d57272",
   "metadata": {},
   "outputs": [
    {
     "name": "stdout",
     "output_type": "stream",
     "text": [
      "Meta  (1962, 18) (1962,)\n",
      "LogisticRegression: 49.287\n",
      "DecisionTreeClassifier: 50.831\n",
      "SVC: 49.169\n",
      "GaussianNB: 49.169\n",
      "KNeighborsClassifier: 49.169\n",
      "AdaBoostClassifier: 49.169\n",
      "BaggingClassifier: 49.169\n",
      "RandomForestClassifier: 49.169\n",
      "ExtraTreesClassifier: 51.544\n",
      "Super Learner Accuracy: 49.169\n"
     ]
    }
   ],
   "source": [
    "from sklearn.model_selection import KFold\n",
    "from numpy import hstack\n",
    "from numpy import vstack\n",
    "from numpy import asarray\n",
    "# get models\n",
    "models = get_models()\n",
    "# get out of fold predictions\n",
    "meta_X, meta_y = get_out_of_fold_predictions(X_train, y_train, models)\n",
    "print('Meta ', meta_X.shape, meta_y.shape)\n",
    "# fit base models\n",
    "fit_base_models(X, y, models)\n",
    "# fit the meta model\n",
    "meta_model = fit_meta_model(meta_X, meta_y)\n",
    "# evaluate base models\n",
    "evaluate_models(X_test, y_test, models)\n",
    "# evaluate meta model\n",
    "yhat = super_learner_predictions(X_test, models, meta_model)\n",
    "print('Super Learner Accuracy: %.3f' % (accuracy_score(y_test, yhat) * 100))"
   ]
  },
  {
   "cell_type": "code",
   "execution_count": 13,
   "id": "703ac4ab",
   "metadata": {},
   "outputs": [
    {
     "data": {
      "text/plain": [
       "<AxesSubplot:>"
      ]
     },
     "execution_count": 13,
     "metadata": {},
     "output_type": "execute_result"
    },
    {
     "data": {
      "image/png": "[encoded data removed]",
      "text/plain": [
       "<Figure size 432x288 with 1 Axes>"
      ]
     },
     "metadata": {
      "needs_background": "light"
     },
     "output_type": "display_data"
    }
   ],
   "source": [
    "features['volume'].plot()"
   ]
  },
  {
   "cell_type": "code",
   "execution_count": 14,
   "id": "d5b09570",
   "metadata": {},
   "outputs": [
    {
     "data": {
      "text/plain": [
       "<AxesSubplot:>"
      ]
     },
     "execution_count": 14,
     "metadata": {},
     "output_type": "execute_result"
    },
    {
     "data": {
      "image/png": "[encoded data removed]",
      "text/plain": [
       "<Figure size 432x288 with 1 Axes>"
      ]
     },
     "metadata": {
      "needs_background": "light"
     },
     "output_type": "display_data"
    }
   ],
   "source": [
    "features['SMA'].plot()"
   ]
  },
  {
   "cell_type": "code",
   "execution_count": 15,
   "id": "d1dce968",
   "metadata": {},
   "outputs": [
    {
     "data": {
      "text/plain": [
       "<AxesSubplot:>"
      ]
     },
     "execution_count": 15,
     "metadata": {},
     "output_type": "execute_result"
    },
    {
     "data": {
      "image/png": "[encoded data removed]",
      "text/plain": [
       "<Figure size 432x288 with 1 Axes>"
      ]
     },
     "metadata": {
      "needs_background": "light"
     },
     "output_type": "display_data"
    }
   ],
   "source": [
    "features[['SMA','adjclose']].plot()"
   ]
  },
  {
   "cell_type": "code",
   "execution_count": 16,
   "id": "886966ea",
   "metadata": {},
   "outputs": [
    {
     "data": {
      "text/plain": [
       "<AxesSubplot:>"
      ]
     },
     "execution_count": 16,
     "metadata": {},
     "output_type": "execute_result"
    },
    {
     "data": {
      "image/png": "[encoded data removed]",
      "text/plain": [
       "<Figure size 432x288 with 1 Axes>"
      ]
     },
     "metadata": {
      "needs_background": "light"
     },
     "output_type": "display_data"
    }
   ],
   "source": [
    "features[['Band_1','Band_2']].plot()"
   ]
  },
  {
   "cell_type": "code",
   "execution_count": 17,
   "id": "07fca525",
   "metadata": {},
   "outputs": [],
   "source": [
    "# Put models in a dictionary\n",
    "models = {\"KNN\": KNeighborsClassifier(),\n",
    "          \"Logistic Regression\": LogisticRegression(), \n",
    "          \"Random Forest\": RandomForestClassifier(),\n",
    "          \"SGD Classifier\": SGDClassifier(), \n",
    "         \"SVM\": svm.SVC(kernel = 'rbf')}\n",
    "# Create function to fit and score models\n",
    "def fit_and_score(models, X_train, X_test, y_train, y_test):\n",
    "    \"\"\"\n",
    "    Fits and evaluates given machine learning models.\n",
    "    models : a dict of different Scikit-Learn machine learning models\n",
    "    X_train : training data\n",
    "    X_test : testing data\n",
    "    y_train : labels assosciated with training data\n",
    "    y_test : labels assosciated with test data\n",
    "    \"\"\"\n",
    "    # Random seed for reproducible results\n",
    "    np.random.seed(42)\n",
    "    # Make a list to keep model scores\n",
    "    model_scores = {}\n",
    "    # Loop through models\n",
    "    for name, model in models.items():\n",
    "        # Fit the model to the data\n",
    "        model.fit(X_train, y_train)\n",
    "        # Evaluate the model and append its score to model_scores\n",
    "        model_scores[name] = model.score(X_test, y_test)\n",
    "    \n",
    "    print('classification Accuracy')\n",
    "    return model_scores"
   ]
  },
  {
   "cell_type": "code",
   "execution_count": 18,
   "id": "d1f2c058",
   "metadata": {},
   "outputs": [
    {
     "name": "stdout",
     "output_type": "stream",
     "text": [
      "classification Accuracy\n"
     ]
    },
    {
     "data": {
      "text/plain": [
       "{'KNN': 0.5106888361045131,\n",
       " 'Logistic Regression': 0.4916864608076009,\n",
       " 'Random Forest': 0.5225653206650831,\n",
       " 'SGD Classifier': 0.4916864608076009,\n",
       " 'SVM': 0.48931116389548696}"
      ]
     },
     "execution_count": 18,
     "metadata": {},
     "output_type": "execute_result"
    }
   ],
   "source": [
    "model_scores = fit_and_score(models=models,\n",
    "                             X_train=X_train,\n",
    "                             X_test=X_test,\n",
    "                             y_train=y_train,\n",
    "                             y_test=y_test)\n",
    "model_scores"
   ]
  },
  {
   "cell_type": "code",
   "execution_count": 19,
   "id": "458952ca",
   "metadata": {},
   "outputs": [
    {
     "data": {
      "text/plain": [
       "<AxesSubplot:>"
      ]
     },
     "execution_count": 19,
     "metadata": {},
     "output_type": "execute_result"
    },
    {
     "data": {
      "image/png": "[encoded data removed]",
      "text/plain": [
       "<Figure size 432x288 with 1 Axes>"
      ]
     },
     "metadata": {
      "needs_background": "light"
     },
     "output_type": "display_data"
    }
   ],
   "source": [
    "model_compare = pd.DataFrame(model_scores, index=['accuracy'])\n",
    "model_compare.T.plot.bar()"
   ]
  },
  {
   "cell_type": "code",
   "execution_count": 20,
   "id": "7708c973",
   "metadata": {},
   "outputs": [],
   "source": [
    "# Different RandomForestClassifier hyperparameters\n",
    "rf_grid = {\"n_estimators\": np.arange(10, 1000, 50),\n",
    "           \"max_depth\": [None, 3, 5, 10],\n",
    "           \"min_samples_split\": np.arange(2, 20, 2),\n",
    "           \"min_samples_leaf\": np.arange(1, 20, 2)}"
   ]
  },
  {
   "cell_type": "code",
   "execution_count": 21,
   "id": "aaabea2d",
   "metadata": {},
   "outputs": [
    {
     "name": "stdout",
     "output_type": "stream",
     "text": [
      "Fitting 5 folds for each of 10 candidates, totalling 50 fits\n"
     ]
    }
   ],
   "source": [
    "# Setup random seed\n",
    "np.random.seed(42)\n",
    "\n",
    "# Setup random hyperparameter search for RandomForestClassifier\n",
    "rfc = RandomizedSearchCV(RandomForestClassifier(),\n",
    "                           param_distributions=rf_grid,\n",
    "                           cv=5,\n",
    "                           n_iter=10,\n",
    "                            verbose=True)\n",
    " \n",
    "\n",
    "# Fit random hyperparameter search model\n",
    "rfc.fit(X_train, y_train);\n"
   ]
  },
  {
   "cell_type": "code",
   "execution_count": null,
   "id": "1402697b",
   "metadata": {},
   "outputs": [
    {
     "data": {
      "image/png": "[encoded data removed]",
      "text/plain": [
       "<Figure size 432x288 with 1 Axes>"
      ]
     },
     "metadata": {
      "needs_background": "light"
     },
     "output_type": "display_data"
    }
   ],
   "source": [
    "y_pred = rfc.predict(X_test)\n",
    "plt.hist(y_pred, bins=3);\n"
   ]
  },
  {
   "cell_type": "code",
   "execution_count": null,
   "id": "6d4d19ec",
   "metadata": {},
   "outputs": [
    {
     "name": "stdout",
     "output_type": "stream",
     "text": [
      "Accuracy score of the model is:  0.48812351543942994\n"
     ]
    },
    {
     "data": {
      "image/png": "[encoded data removed]",
      "text/plain": [
       "<Figure size 432x288 with 2 Axes>"
      ]
     },
     "metadata": {
      "needs_background": "light"
     },
     "output_type": "display_data"
    }
   ],
   "source": [
    "print (\"Accuracy score of the model is: \", accuracy_score(y_test, y_pred))\n",
    "plot_confusion_matrix(rfc, X_test, y_test);"
   ]
  },
  {
   "cell_type": "code",
   "execution_count": null,
   "id": "812152cb",
   "metadata": {},
   "outputs": [],
   "source": []
  }
 ],
 "metadata": {
  "kernelspec": {
   "display_name": "Python 3",
   "language": "python",
   "name": "python3"
  },
  "language_info": {
   "codemirror_mode": {
    "name": "ipython",
    "version": 3
   },
   "file_extension": ".py",
   "mimetype": "text/x-python",
   "name": "python",
   "nbconvert_exporter": "python",
   "pygments_lexer": "ipython3",
   "version": "3.8.8"
  }
 },
 "nbformat": 4,
 "nbformat_minor": 5
}
