{
 "cells": [
  {
   "cell_type": "code",
   "execution_count": 8,
   "metadata": {},
   "outputs": [],
   "source": [
    "import bs4 as bs\n",
    "import datetime as dt\n",
    "import os\n",
    "import pandas as pd\n",
    "import numpy as np\n",
    "import pandas_datareader.data as pdr\n",
    "import yfinance as yf\n",
    "from splinter import Browser\n",
    "from bs4 import BeautifulSoup\n",
    "import re\n",
    "from webdriver_manager.chrome import ChromeDriverManager"
   ]
  },
  {
   "cell_type": "code",
   "execution_count": 9,
   "metadata": {},
   "outputs": [
    {
     "name": "stderr",
     "output_type": "stream",
     "text": [
      "[WDM] - \n",
      "\n",
      "[WDM] - ====== WebDriver manager ======\n",
      "[WDM] - Current google-chrome version is 96.0.4664\n",
      "[WDM] - Get LATEST driver version for 96.0.4664\n",
      "[WDM] - Driver [C:\\Users\\bmontague\\.wdm\\drivers\\chromedriver\\win32\\96.0.4664.45\\chromedriver.exe] found in cache\n",
      "C:\\Users\\bmontague\\Anaconda3\\lib\\site-packages\\selenium\\webdriver\\remote\\webelement.py:425: UserWarning: find_elements_by_* commands are deprecated. Please use find_elements() instead\n",
      "  warnings.warn(\"find_elements_by_* commands are deprecated. Please use find_elements() instead\")\n"
     ]
    }
   ],
   "source": [
    "executable_path = {'executable_path': ChromeDriverManager().install()}\n",
    "browser = Browser('chrome', **executable_path, headless=False)\n",
    "\n",
    "url = 'https://stockanalysis.com/stocks/'\n",
    "browser.visit(url)\n",
    "element = browser.find_by_name('perpage').first\n",
    "element.select('10000')"
   ]
  },
  {
   "cell_type": "code",
   "execution_count": 10,
   "metadata": {},
   "outputs": [
    {
     "data": {
      "text/html": [
       "<div>\n",
       "<style scoped>\n",
       "    .dataframe tbody tr th:only-of-type {\n",
       "        vertical-align: middle;\n",
       "    }\n",
       "\n",
       "    .dataframe tbody tr th {\n",
       "        vertical-align: top;\n",
       "    }\n",
       "\n",
       "    .dataframe thead th {\n",
       "        text-align: right;\n",
       "    }\n",
       "</style>\n",
       "<table border=\"1\" class=\"dataframe\">\n",
       "  <thead>\n",
       "    <tr style=\"text-align: right;\">\n",
       "      <th></th>\n",
       "      <th>Symbol</th>\n",
       "      <th>Company</th>\n",
       "      <th>Industry</th>\n",
       "      <th>Market Cap</th>\n",
       "    </tr>\n",
       "  </thead>\n",
       "  <tbody>\n",
       "    <tr>\n",
       "      <th>0</th>\n",
       "      <td>A</td>\n",
       "      <td>Agilent Technologies</td>\n",
       "      <td>Life Sciences Tools &amp; Services</td>\n",
       "      <td>49.09B</td>\n",
       "    </tr>\n",
       "    <tr>\n",
       "      <th>1</th>\n",
       "      <td>AA</td>\n",
       "      <td>Alcoa</td>\n",
       "      <td>Metals &amp; Mining</td>\n",
       "      <td>8.92B</td>\n",
       "    </tr>\n",
       "    <tr>\n",
       "      <th>2</th>\n",
       "      <td>AAC</td>\n",
       "      <td>Ares Acquisition</td>\n",
       "      <td>Blank Check / SPAC</td>\n",
       "      <td>1.23B</td>\n",
       "    </tr>\n",
       "    <tr>\n",
       "      <th>3</th>\n",
       "      <td>AACG</td>\n",
       "      <td>ATA Creativity Global</td>\n",
       "      <td>Diversified Consumer Services</td>\n",
       "      <td>60.87M</td>\n",
       "    </tr>\n",
       "    <tr>\n",
       "      <th>4</th>\n",
       "      <td>AADI</td>\n",
       "      <td>Aadi Bioscience</td>\n",
       "      <td>Biotechnology</td>\n",
       "      <td>490.59M</td>\n",
       "    </tr>\n",
       "  </tbody>\n",
       "</table>\n",
       "</div>"
      ],
      "text/plain": [
       "  Symbol                Company                        Industry Market Cap\n",
       "0      A   Agilent Technologies  Life Sciences Tools & Services     49.09B\n",
       "1     AA                  Alcoa                 Metals & Mining      8.92B\n",
       "2    AAC       Ares Acquisition              Blank Check / SPAC      1.23B\n",
       "3   AACG  ATA Creativity Global   Diversified Consumer Services     60.87M\n",
       "4   AADI        Aadi Bioscience                   Biotechnology    490.59M"
      ]
     },
     "execution_count": 10,
     "metadata": {},
     "output_type": "execute_result"
    }
   ],
   "source": [
    "html = browser.html   \n",
    "soup = BeautifulSoup(html,'html.parser')\n",
    "\n",
    "table = soup.find('table', {'class' : 'symbol-table index'})\n",
    "\n",
    "symbol = []\n",
    "company_name = []\n",
    "industry = []\n",
    "market_cap= []\n",
    "for row in table.find_all('tr')[1:]:\n",
    "    symbol.append(row.find_all('td')[0].text)\n",
    "    company_name.append(row.find_all('td')[1].text)\n",
    "    industry.append(row.find_all('td')[2].text)\n",
    "    market_cap.append(row.find_all('td')[3].text)\n",
    "\n",
    "browser.quit()\n",
    "\n",
    "stocks_df = pd.DataFrame(list(zip(symbol, company_name,industry,market_cap)),\n",
    "               columns =['Symbol', 'Company','Industry','Market Cap'])\n",
    "stocks_df.to_csv('Output/Stocks/stock_list.csv',index=False)\n",
    "stocks_df.head()\n",
    "\n",
    "\n"
   ]
  },
  {
   "cell_type": "code",
   "execution_count": null,
   "metadata": {},
   "outputs": [],
   "source": [
    "industry = pd.unique(industry)\n",
    "x = 1\n",
    "obj = {}\n",
    "for i in industry:\n",
    "    obj_list = f\"l{x}\"\n",
    "    df = stocks_df.loc[stocks_df['Industry']==i]\n",
    "    obj[obj_list] = df[\"Symbol\"].to_list()\n",
    "    x = x + 1"
   ]
  },
  {
   "cell_type": "code",
   "execution_count": null,
   "metadata": {},
   "outputs": [],
   "source": [
    "x = 1\n",
    "for i in industry:\n",
    "    key = f\"l{x}\"\n",
    "    obj[i]=obj.pop(key)\n",
    "    x = x + 1   "
   ]
  },
  {
   "cell_type": "code",
   "execution_count": null,
   "metadata": {},
   "outputs": [],
   "source": [
    "start = dt.datetime(2011, 1, 1)\n",
    "end = dt.datetime.now() \n",
    "\n",
    "# create empty dataframe\n",
    "stock_final = pd.DataFrame()\n",
    "# iterate over each symbol\n",
    "for i in symbol:  \n",
    "    \n",
    "    # print the symbol which is being downloaded\n",
    "    print( str(symbol.index(i)) + str(' : ') + i, sep=',', end=',', flush=True)  \n",
    "    \n",
    "    try:\n",
    "        # download the stock price \n",
    "        stock = []\n",
    "        stock = yf.download(i,start=start, end=end, progress=False)\n",
    "        \n",
    "        # append the individual stock prices \n",
    "        if len(stock) == 0:\n",
    "            None\n",
    "        else:\n",
    "            stock['Name']=i\n",
    "            stock_final = stock_final.append(stock,sort=False)\n",
    "    except Exception:\n",
    "       None\n",
    "stock_final[\"Symbol\"]=stock_final[\"Name\"]\n",
    "stock_final.head()"
   ]
  },
  {
   "cell_type": "code",
   "execution_count": null,
   "metadata": {},
   "outputs": [],
   "source": [
    "stock_final = pd.merge(stock_final,stocks_df, on = '')\n",
    "stock_final.head()"
   ]
  },
  {
   "cell_type": "code",
   "execution_count": null,
   "metadata": {},
   "outputs": [],
   "source": [
    "start = dt.datetime(2011, 1, 1)\n",
    "end = dt.datetime.now()\n",
    "\n",
    "for value in obj.values():\n",
    "    industry = [k for k, v in obj.items() if v == value]\n",
    "    industry = str([re.sub('[^a-zA-Z0-9]+', '', _) for _ in industry])\n",
    "    size = len(industry)\n",
    "    industry = industry[2:size-2]\n",
    "    \n",
    "    data = yf.download(value, start=start, end=end)\n",
    "    data_df = data.stack().reset_index().rename(index=str, columns={\"level_1\": \"Symbol\"}).sort_values(['Symbol','Date'])\n",
    "    data_df = pd.merge(data_df,stocks_df, on = \"Symbol\")\n",
    "    data_df.to_csv(f'Output/{industry}.csv',index=False)\n"
   ]
  }
 ],
 "metadata": {
  "interpreter": {
   "hash": "3e59b76c17f627c15371ae6ff294e963e2579064458b17d3b5bc05e5ce2c9f46"
  },
  "kernelspec": {
   "display_name": "Python 3.8.8 64-bit ('base': conda)",
   "name": "python3"
  },
  "language_info": {
   "codemirror_mode": {
    "name": "ipython",
    "version": 3
   },
   "file_extension": ".py",
   "mimetype": "text/x-python",
   "name": "python",
   "nbconvert_exporter": "python",
   "pygments_lexer": "ipython3",
   "version": "3.8.8"
  },
  "orig_nbformat": 4
 },
 "nbformat": 4,
 "nbformat_minor": 2
}
